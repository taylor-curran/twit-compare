{
 "cells": [
  {
   "cell_type": "code",
   "execution_count": null,
   "metadata": {},
   "outputs": [],
   "source": []
  },
  {
   "cell_type": "code",
   "execution_count": null,
   "metadata": {},
   "outputs": [],
   "source": []
  },
  {
   "cell_type": "code",
   "execution_count": null,
   "metadata": {},
   "outputs": [],
   "source": []
  },
  {
   "cell_type": "code",
   "execution_count": null,
   "metadata": {},
   "outputs": [],
   "source": []
  },
  {
   "cell_type": "code",
   "execution_count": null,
   "metadata": {},
   "outputs": [],
   "source": []
  },
  {
   "cell_type": "code",
   "execution_count": null,
   "metadata": {},
   "outputs": [],
   "source": []
  },
  {
   "cell_type": "code",
   "execution_count": null,
   "metadata": {},
   "outputs": [],
   "source": []
  },
  {
   "cell_type": "code",
   "execution_count": null,
   "metadata": {},
   "outputs": [],
   "source": []
  },
  {
   "cell_type": "code",
   "execution_count": null,
   "metadata": {},
   "outputs": [],
   "source": []
  },
  {
   "cell_type": "markdown",
   "metadata": {},
   "source": [
    "## Understanding Tweepy"
   ]
  },
  {
   "cell_type": "code",
   "execution_count": 1,
   "metadata": {},
   "outputs": [],
   "source": [
    "# to interact with Twitter API\n",
    "import tweepy\n",
    "# for Authenticaion Keys\n",
    "from os import getenv"
   ]
  },
  {
   "cell_type": "code",
   "execution_count": 2,
   "metadata": {},
   "outputs": [],
   "source": [
    "# Load Environment Variables\n",
    "TWITTER_API_KEY = getenv('TWITTER_API_KEY')\n",
    "TWITTER_API_KEY_SECRET = getenv('TWITTER_API_KEY_SECRET')"
   ]
  },
  {
   "cell_type": "code",
   "execution_count": 14,
   "metadata": {},
   "outputs": [],
   "source": [
    "auth = tweepy.OAuthHandler(TWITTER_API_KEY, TWITTER_API_KEY_SECRET)\n",
    "TWITTER = tweepy.API(auth)\n",
    "elon = TWITTER.get_user('elonmusk')"
   ]
  },
  {
   "cell_type": "code",
   "execution_count": 15,
   "metadata": {},
   "outputs": [
    {
     "data": {
      "text/plain": [
       "['__class__',\n",
       " '__delattr__',\n",
       " '__dict__',\n",
       " '__dir__',\n",
       " '__doc__',\n",
       " '__eq__',\n",
       " '__format__',\n",
       " '__ge__',\n",
       " '__getattribute__',\n",
       " '__getstate__',\n",
       " '__gt__',\n",
       " '__hash__',\n",
       " '__init__',\n",
       " '__init_subclass__',\n",
       " '__le__',\n",
       " '__lt__',\n",
       " '__module__',\n",
       " '__ne__',\n",
       " '__new__',\n",
       " '__reduce__',\n",
       " '__reduce_ex__',\n",
       " '__repr__',\n",
       " '__setattr__',\n",
       " '__sizeof__',\n",
       " '__str__',\n",
       " '__subclasshook__',\n",
       " '__weakref__',\n",
       " '_api',\n",
       " '_json',\n",
       " 'contributors_enabled',\n",
       " 'created_at',\n",
       " 'default_profile',\n",
       " 'default_profile_image',\n",
       " 'description',\n",
       " 'entities',\n",
       " 'favourites_count',\n",
       " 'follow',\n",
       " 'follow_request_sent',\n",
       " 'followers',\n",
       " 'followers_count',\n",
       " 'followers_ids',\n",
       " 'following',\n",
       " 'friends',\n",
       " 'friends_count',\n",
       " 'geo_enabled',\n",
       " 'has_extended_profile',\n",
       " 'id',\n",
       " 'id_str',\n",
       " 'is_translation_enabled',\n",
       " 'is_translator',\n",
       " 'lang',\n",
       " 'listed_count',\n",
       " 'lists',\n",
       " 'lists_memberships',\n",
       " 'lists_subscriptions',\n",
       " 'location',\n",
       " 'name',\n",
       " 'notifications',\n",
       " 'parse',\n",
       " 'parse_list',\n",
       " 'profile_background_color',\n",
       " 'profile_background_image_url',\n",
       " 'profile_background_image_url_https',\n",
       " 'profile_background_tile',\n",
       " 'profile_banner_url',\n",
       " 'profile_image_url',\n",
       " 'profile_image_url_https',\n",
       " 'profile_link_color',\n",
       " 'profile_location',\n",
       " 'profile_sidebar_border_color',\n",
       " 'profile_sidebar_fill_color',\n",
       " 'profile_text_color',\n",
       " 'profile_use_background_image',\n",
       " 'protected',\n",
       " 'screen_name',\n",
       " 'status',\n",
       " 'statuses_count',\n",
       " 'time_zone',\n",
       " 'timeline',\n",
       " 'translator_type',\n",
       " 'unfollow',\n",
       " 'url',\n",
       " 'utc_offset',\n",
       " 'verified']"
      ]
     },
     "execution_count": 15,
     "metadata": {},
     "output_type": "execute_result"
    }
   ],
   "source": [
    "dir(elon)"
   ]
  },
  {
   "cell_type": "code",
   "execution_count": 16,
   "metadata": {},
   "outputs": [
    {
     "data": {
      "text/plain": [
       "['__class__',\n",
       " '__delattr__',\n",
       " '__dict__',\n",
       " '__dir__',\n",
       " '__doc__',\n",
       " '__eq__',\n",
       " '__format__',\n",
       " '__ge__',\n",
       " '__getattribute__',\n",
       " '__getstate__',\n",
       " '__gt__',\n",
       " '__hash__',\n",
       " '__init__',\n",
       " '__init_subclass__',\n",
       " '__le__',\n",
       " '__lt__',\n",
       " '__module__',\n",
       " '__ne__',\n",
       " '__new__',\n",
       " '__reduce__',\n",
       " '__reduce_ex__',\n",
       " '__repr__',\n",
       " '__setattr__',\n",
       " '__sizeof__',\n",
       " '__str__',\n",
       " '__subclasshook__',\n",
       " '__weakref__',\n",
       " '_api',\n",
       " '_json',\n",
       " 'contributors',\n",
       " 'coordinates',\n",
       " 'created_at',\n",
       " 'destroy',\n",
       " 'entities',\n",
       " 'favorite',\n",
       " 'favorite_count',\n",
       " 'favorited',\n",
       " 'geo',\n",
       " 'id',\n",
       " 'id_str',\n",
       " 'in_reply_to_screen_name',\n",
       " 'in_reply_to_status_id',\n",
       " 'in_reply_to_status_id_str',\n",
       " 'in_reply_to_user_id',\n",
       " 'in_reply_to_user_id_str',\n",
       " 'is_quote_status',\n",
       " 'lang',\n",
       " 'parse',\n",
       " 'parse_list',\n",
       " 'place',\n",
       " 'retweet',\n",
       " 'retweet_count',\n",
       " 'retweeted',\n",
       " 'retweets',\n",
       " 'source',\n",
       " 'source_url',\n",
       " 'text',\n",
       " 'truncated']"
      ]
     },
     "execution_count": 16,
     "metadata": {},
     "output_type": "execute_result"
    }
   ],
   "source": [
    "dir(elon.status)"
   ]
  },
  {
   "cell_type": "code",
   "execution_count": 17,
   "metadata": {},
   "outputs": [
    {
     "data": {
      "text/plain": [
       "'@PPathole After'"
      ]
     },
     "execution_count": 17,
     "metadata": {},
     "output_type": "execute_result"
    }
   ],
   "source": [
    "elon.timeline()[0].text"
   ]
  },
  {
   "cell_type": "code",
   "execution_count": 18,
   "metadata": {},
   "outputs": [
    {
     "data": {
      "text/plain": [
       "'PPathole'"
      ]
     },
     "execution_count": 18,
     "metadata": {},
     "output_type": "execute_result"
    }
   ],
   "source": [
    "elon.timeline()[0].in_reply_to_screen_name"
   ]
  },
  {
   "cell_type": "code",
   "execution_count": 19,
   "metadata": {},
   "outputs": [
    {
     "data": {
      "text/plain": [
       "False"
      ]
     },
     "execution_count": 19,
     "metadata": {},
     "output_type": "execute_result"
    }
   ],
   "source": [
    "elon.timeline()[0].retweeted"
   ]
  },
  {
   "cell_type": "code",
   "execution_count": 20,
   "metadata": {},
   "outputs": [
    {
     "data": {
      "text/plain": [
       "datetime.datetime(2020, 10, 15, 7, 53, 13)"
      ]
     },
     "execution_count": 20,
     "metadata": {},
     "output_type": "execute_result"
    }
   ],
   "source": [
    "elon.timeline()[0].created_at"
   ]
  },
  {
   "cell_type": "code",
   "execution_count": 59,
   "metadata": {},
   "outputs": [
    {
     "data": {
      "text/plain": [
       "'The gauntlet has been thrown down! \\n\\nThe prophecy will be fulfilled. \\n\\nModel S price changes to $69,420 tonight!'"
      ]
     },
     "execution_count": 59,
     "metadata": {},
     "output_type": "execute_result"
    }
   ],
   "source": [
    "# How to Get the Text of a Tweet\n",
    "elon.timeline(\n",
    "            count=200, exclude_replies=True, include_rts=False,\n",
    "            tweet_mode='extended', since_id=None)[0].full_text"
   ]
  },
  {
   "cell_type": "markdown",
   "metadata": {},
   "source": [
    "## Understanding the Analysis"
   ]
  },
  {
   "cell_type": "code",
   "execution_count": 41,
   "metadata": {},
   "outputs": [],
   "source": [
    "\"\"\"SQLAlchemy models and utility functions for TwitOff.\"\"\"\n",
    "from flask_sqlalchemy import SQLAlchemy\n",
    "\n",
    "DB = SQLAlchemy()\n",
    "\n",
    "\n",
    "class User(DB.Model):\n",
    "    \"\"\"Twitter users corresponding to Tweets in the Tweet table.\"\"\"\n",
    "    id = DB.Column(DB.BigInteger, primary_key=True)\n",
    "    name = DB.Column(DB.String(15), nullable=False)\n",
    "    # Tweet IDs are ordinal ints, so can be used to fetch only more recent\n",
    "    newest_tweet_id = DB.Column(DB.BigInteger)\n",
    "\n",
    "    def __repr__(self):\n",
    "        return '<User {}>'.format(self.name)\n",
    "\n",
    "\n",
    "class Tweet(DB.Model):\n",
    "    \"\"\"Tweets and their embeddings from Basilica.\"\"\"\n",
    "    id = DB.Column(DB.BigInteger, primary_key=True)\n",
    "    text = DB.Column(DB.Unicode(300))  # Allowing for full + links\n",
    "    embedding = DB.Column(DB.PickleType, nullable=False)\n",
    "    user_id = DB.Column(DB.BigInteger, DB.ForeignKey('user.id'), nullable=False)\n",
    "    user = DB.relationship('User', backref=DB.backref('tweets', lazy=True))\n",
    "\n",
    "    def __repr__(self):\n",
    "        return '<Tweet {}>'.format(self.text)"
   ]
  },
  {
   "cell_type": "code",
   "execution_count": 52,
   "metadata": {},
   "outputs": [],
   "source": [
    "nlp = spacy.load('en_core_web_sm')"
   ]
  },
  {
   "cell_type": "code",
   "execution_count": 62,
   "metadata": {},
   "outputs": [],
   "source": [
    "def vectorize_tweet(tweet_text):\n",
    "    return nlp(tweet_text).vector"
   ]
  },
  {
   "cell_type": "code",
   "execution_count": 65,
   "metadata": {},
   "outputs": [
    {
     "name": "stdout",
     "output_type": "stream",
     "text": [
      "The gauntlet has been thrown down! \n",
      "\n",
      "The prophecy will be fulfilled. \n",
      "\n",
      "Model S price changes to $69,420 tonight!\n",
      "Shape (96,)\n",
      "[ 9.1873957e-03 -1.0405062e+00 -2.4615030e-03 -7.8577274e-01\n",
      " -2.5952318e-01  1.5746862e-02  3.9108464e-01  1.4352538e-01\n",
      " -1.1414484e+00  5.7398647e-01 -4.4893992e-01  6.9922966e-01\n",
      " -2.1050255e-01  2.2449448e+00 -3.7715408e-01 -5.0495576e-02\n",
      "  3.6779836e-01 -5.6217372e-01  3.5060742e-01  7.6106375e-01\n",
      "  6.8657422e-01 -4.5199004e-01  5.3928733e-01 -5.2064949e-01\n",
      "  6.7628354e-01  1.3119510e+00 -1.6024026e+00 -1.4628707e+00\n",
      " -7.1308875e-01 -1.3743941e+00  3.1411526e-01 -6.2586111e-01\n",
      "  5.8948070e-01 -1.0099517e+00  2.4074154e-01  8.2665253e-01\n",
      " -6.8420881e-01 -2.9855013e-01 -6.6787273e-02 -4.6510974e-01\n",
      "  7.9847807e-01  4.2252947e-02  6.9942760e-01 -8.4412092e-01\n",
      "  5.7230085e-01 -6.3125056e-01 -3.9756756e-02  6.9487190e-01\n",
      "  8.8051158e-01  3.6715022e-01  4.7167358e-01 -3.7116119e-01\n",
      "  1.6800560e-01 -3.4775648e-01  3.4939387e-01  8.4622598e-01\n",
      "  1.1168628e+00 -3.9352584e-01 -7.3996073e-01  1.8687558e-01\n",
      "  4.6060643e-01 -3.3703288e-01  3.0854261e-01 -1.4069042e+00\n",
      " -1.1712776e+00  1.2462214e+00  1.4299356e+00 -5.2206564e-01\n",
      "  1.1212752e+00  6.1229825e-01  2.3739095e-01 -6.3446873e-01\n",
      "  3.2457169e-02  1.0331517e-01 -8.9362359e-01  6.0547972e-01\n",
      "  1.7859749e+00  4.6870628e-01 -9.4161063e-01  2.0312899e-01\n",
      " -2.7970159e-01  4.0531299e-01  4.1104272e-01 -2.9239854e-01\n",
      " -6.9048047e-01 -9.0401448e-02  7.3163128e-01  8.7361121e-01\n",
      "  7.0116180e-01  8.2539218e-03 -9.5644063e-01  2.2013932e-03\n",
      "  7.6114617e-02  1.1666356e+00  3.8205621e-01 -6.7624331e-01]\n"
     ]
    }
   ],
   "source": [
    "# Example of Embedding\n",
    "example_tweet = elon.timeline(\n",
    "            count=200, exclude_replies=True, include_rts=False,\n",
    "            tweet_mode='extended', since_id=None)[0].full_text\n",
    "print(example_tweet)\n",
    "\n",
    "vector = vectorize_tweet(example_tweet)\n",
    "print('Shape', vector.shape)\n",
    "print(vector)"
   ]
  },
  {
   "cell_type": "code",
   "execution_count": 1,
   "metadata": {},
   "outputs": [
    {
     "ename": "NameError",
     "evalue": "name 'elon' is not defined",
     "output_type": "error",
     "traceback": [
      "\u001b[0;31m---------------------------------------------------------------------------\u001b[0m",
      "\u001b[0;31mNameError\u001b[0m                                 Traceback (most recent call last)",
      "\u001b[0;32m<ipython-input-1-0f5dedd6bb57>\u001b[0m in \u001b[0;36m<module>\u001b[0;34m\u001b[0m\n\u001b[1;32m      1\u001b[0m \u001b[0;31m# Example of Embedding\u001b[0m\u001b[0;34m\u001b[0m\u001b[0;34m\u001b[0m\u001b[0;34m\u001b[0m\u001b[0m\n\u001b[0;32m----> 2\u001b[0;31m example_tweet = elon.timeline(\n\u001b[0m\u001b[1;32m      3\u001b[0m             \u001b[0mcount\u001b[0m\u001b[0;34m=\u001b[0m\u001b[0;36m200\u001b[0m\u001b[0;34m,\u001b[0m \u001b[0mexclude_replies\u001b[0m\u001b[0;34m=\u001b[0m\u001b[0;32mTrue\u001b[0m\u001b[0;34m,\u001b[0m \u001b[0minclude_rts\u001b[0m\u001b[0;34m=\u001b[0m\u001b[0;32mFalse\u001b[0m\u001b[0;34m,\u001b[0m\u001b[0;34m\u001b[0m\u001b[0;34m\u001b[0m\u001b[0m\n\u001b[1;32m      4\u001b[0m             tweet_mode='extended', since_id=None)[1].full_text\n\u001b[1;32m      5\u001b[0m \u001b[0mprint\u001b[0m\u001b[0;34m(\u001b[0m\u001b[0mexample_tweet\u001b[0m\u001b[0;34m)\u001b[0m\u001b[0;34m\u001b[0m\u001b[0;34m\u001b[0m\u001b[0m\n",
      "\u001b[0;31mNameError\u001b[0m: name 'elon' is not defined"
     ]
    }
   ],
   "source": [
    "# Example of Embedding\n",
    "example_tweet = elon.timeline(\n",
    "            count=200, exclude_replies=True, include_rts=False,\n",
    "            tweet_mode='extended', since_id=None)[1].full_text\n",
    "print(example_tweet)\n",
    "\n",
    "vector = vectorize_tweet(example_tweet)\n",
    "print('Shape', vector.shape)\n",
    "print(vector)"
   ]
  },
  {
   "cell_type": "code",
   "execution_count": null,
   "metadata": {},
   "outputs": [],
   "source": []
  },
  {
   "cell_type": "code",
   "execution_count": 44,
   "metadata": {},
   "outputs": [],
   "source": [
    "def add_or_update_user(username):\n",
    "    try:\n",
    "        # Get User from Username from API\n",
    "        twitter_user = TWITTER.get_user(username)\n",
    "        # Create a Row in User Table\n",
    "        db_user = User(id=twitter_user.id, name=username)\n",
    "        \n",
    "        # Get Tweets from Username from API\n",
    "        tweets = twitter_user.timeline(\n",
    "            count=200, exclude_replies=True, include_rts=False,\n",
    "            # ?- What happens if db_user does not have a newest_tweet_id? -?\n",
    "            tweet_mode='extended', since_id=db_user.newest_tweet_id)\n",
    "        # Get newest_tweet_id\n",
    "        if tweets:\n",
    "            db_user.newest_tweet_id = tweets[0].id\n",
    "        for tweet in tweets:\n",
    "            embedding = vectorize_tweet(tweet.full_text)\n",
    "            \n",
    "            \n",
    "    except Exception as e:\n",
    "        print('Error processiing {}: {}'.format(username, e))\n",
    "        raise e\n",
    "        \n",
    "    else:\n",
    "        print(\"Commit Changes if in App\")\n",
    "        return db_user\n",
    "    "
   ]
  },
  {
   "cell_type": "code",
   "execution_count": 45,
   "metadata": {},
   "outputs": [
    {
     "name": "stdout",
     "output_type": "stream",
     "text": [
      "Commit Changes if in App\n"
     ]
    }
   ],
   "source": [
    "mb = add_or_update_user('MorningBrew')"
   ]
  },
  {
   "cell_type": "code",
   "execution_count": 47,
   "metadata": {},
   "outputs": [
    {
     "data": {
      "text/plain": [
       "1316742064193900547"
      ]
     },
     "execution_count": 47,
     "metadata": {},
     "output_type": "execute_result"
    }
   ],
   "source": [
    "mb.newest_tweet_id"
   ]
  },
  {
   "cell_type": "code",
   "execution_count": null,
   "metadata": {},
   "outputs": [],
   "source": []
  },
  {
   "cell_type": "code",
   "execution_count": null,
   "metadata": {},
   "outputs": [],
   "source": []
  },
  {
   "cell_type": "code",
   "execution_count": null,
   "metadata": {},
   "outputs": [],
   "source": []
  },
  {
   "cell_type": "code",
   "execution_count": null,
   "metadata": {},
   "outputs": [],
   "source": []
  },
  {
   "cell_type": "code",
   "execution_count": null,
   "metadata": {},
   "outputs": [],
   "source": []
  },
  {
   "cell_type": "code",
   "execution_count": null,
   "metadata": {},
   "outputs": [],
   "source": []
  },
  {
   "cell_type": "code",
   "execution_count": null,
   "metadata": {},
   "outputs": [],
   "source": []
  },
  {
   "cell_type": "code",
   "execution_count": null,
   "metadata": {},
   "outputs": [],
   "source": []
  },
  {
   "cell_type": "code",
   "execution_count": null,
   "metadata": {},
   "outputs": [],
   "source": []
  },
  {
   "cell_type": "code",
   "execution_count": null,
   "metadata": {},
   "outputs": [],
   "source": []
  },
  {
   "cell_type": "code",
   "execution_count": null,
   "metadata": {},
   "outputs": [],
   "source": []
  },
  {
   "cell_type": "code",
   "execution_count": null,
   "metadata": {},
   "outputs": [],
   "source": []
  }
 ],
 "metadata": {
  "kernelspec": {
   "display_name": "twit_compare",
   "language": "python",
   "name": "twit_compare"
  },
  "language_info": {
   "codemirror_mode": {
    "name": "ipython",
    "version": 3
   },
   "file_extension": ".py",
   "mimetype": "text/x-python",
   "name": "python",
   "nbconvert_exporter": "python",
   "pygments_lexer": "ipython3",
   "version": "3.8.1"
  }
 },
 "nbformat": 4,
 "nbformat_minor": 4
}

{
 "cells": [
  {
   "cell_type": "code",
   "execution_count": null,
   "metadata": {},
   "outputs": [],
   "source": []
  },
  {
   "cell_type": "code",
   "execution_count": null,
   "metadata": {},
   "outputs": [],
   "source": []
  },
  {
   "cell_type": "code",
   "execution_count": null,
   "metadata": {},
   "outputs": [],
   "source": []
  },
  {
   "cell_type": "code",
   "execution_count": null,
   "metadata": {},
   "outputs": [],
   "source": []
  },
  {
   "cell_type": "code",
   "execution_count": null,
   "metadata": {},
   "outputs": [],
   "source": []
  },
  {
   "cell_type": "code",
   "execution_count": null,
   "metadata": {},
   "outputs": [],
   "source": []
  },
  {
   "cell_type": "code",
   "execution_count": null,
   "metadata": {},
   "outputs": [],
   "source": []
  },
  {
   "cell_type": "code",
   "execution_count": null,
   "metadata": {},
   "outputs": [],
   "source": []
  },
  {
   "cell_type": "code",
   "execution_count": null,
   "metadata": {},
   "outputs": [],
   "source": []
  },
  {
   "cell_type": "markdown",
   "metadata": {},
   "source": [
    "## Understanding Tweepy"
   ]
  },
  {
   "cell_type": "code",
   "execution_count": 1,
   "metadata": {},
   "outputs": [],
   "source": [
    "# to interact with Twitter API\n",
    "import tweepy\n",
    "# for Authenticaion Keys\n",
    "from os import getenv"
   ]
  },
  {
   "cell_type": "code",
   "execution_count": 2,
   "metadata": {},
   "outputs": [],
   "source": [
    "# Load Environment Variables\n",
    "TWITTER_API_KEY = getenv('TWITTER_API_KEY')\n",
    "TWITTER_API_KEY_SECRET = getenv('TWITTER_API_KEY_SECRET')"
   ]
  },
  {
   "cell_type": "code",
   "execution_count": 3,
   "metadata": {},
   "outputs": [],
   "source": [
    "auth = tweepy.OAuthHandler(TWITTER_API_KEY, TWITTER_API_KEY_SECRET)\n",
    "TWITTER = tweepy.API(auth)\n",
    "elon = TWITTER.get_user('elonmusk')"
   ]
  },
  {
   "cell_type": "code",
   "execution_count": 4,
   "metadata": {},
   "outputs": [
    {
     "data": {
      "text/plain": [
       "['__class__',\n",
       " '__delattr__',\n",
       " '__dict__',\n",
       " '__dir__',\n",
       " '__doc__',\n",
       " '__eq__',\n",
       " '__format__',\n",
       " '__ge__',\n",
       " '__getattribute__',\n",
       " '__getstate__',\n",
       " '__gt__',\n",
       " '__hash__',\n",
       " '__init__',\n",
       " '__init_subclass__',\n",
       " '__le__',\n",
       " '__lt__',\n",
       " '__module__',\n",
       " '__ne__',\n",
       " '__new__',\n",
       " '__reduce__',\n",
       " '__reduce_ex__',\n",
       " '__repr__',\n",
       " '__setattr__',\n",
       " '__sizeof__',\n",
       " '__str__',\n",
       " '__subclasshook__',\n",
       " '__weakref__',\n",
       " '_api',\n",
       " '_json',\n",
       " 'contributors_enabled',\n",
       " 'created_at',\n",
       " 'default_profile',\n",
       " 'default_profile_image',\n",
       " 'description',\n",
       " 'entities',\n",
       " 'favourites_count',\n",
       " 'follow',\n",
       " 'follow_request_sent',\n",
       " 'followers',\n",
       " 'followers_count',\n",
       " 'followers_ids',\n",
       " 'following',\n",
       " 'friends',\n",
       " 'friends_count',\n",
       " 'geo_enabled',\n",
       " 'has_extended_profile',\n",
       " 'id',\n",
       " 'id_str',\n",
       " 'is_translation_enabled',\n",
       " 'is_translator',\n",
       " 'lang',\n",
       " 'listed_count',\n",
       " 'lists',\n",
       " 'lists_memberships',\n",
       " 'lists_subscriptions',\n",
       " 'location',\n",
       " 'name',\n",
       " 'notifications',\n",
       " 'parse',\n",
       " 'parse_list',\n",
       " 'profile_background_color',\n",
       " 'profile_background_image_url',\n",
       " 'profile_background_image_url_https',\n",
       " 'profile_background_tile',\n",
       " 'profile_banner_url',\n",
       " 'profile_image_url',\n",
       " 'profile_image_url_https',\n",
       " 'profile_link_color',\n",
       " 'profile_location',\n",
       " 'profile_sidebar_border_color',\n",
       " 'profile_sidebar_fill_color',\n",
       " 'profile_text_color',\n",
       " 'profile_use_background_image',\n",
       " 'protected',\n",
       " 'screen_name',\n",
       " 'status',\n",
       " 'statuses_count',\n",
       " 'time_zone',\n",
       " 'timeline',\n",
       " 'translator_type',\n",
       " 'unfollow',\n",
       " 'url',\n",
       " 'utc_offset',\n",
       " 'verified']"
      ]
     },
     "execution_count": 4,
     "metadata": {},
     "output_type": "execute_result"
    }
   ],
   "source": [
    "dir(elon)"
   ]
  },
  {
   "cell_type": "code",
   "execution_count": 5,
   "metadata": {},
   "outputs": [
    {
     "data": {
      "text/plain": [
       "['__class__',\n",
       " '__delattr__',\n",
       " '__dict__',\n",
       " '__dir__',\n",
       " '__doc__',\n",
       " '__eq__',\n",
       " '__format__',\n",
       " '__ge__',\n",
       " '__getattribute__',\n",
       " '__getstate__',\n",
       " '__gt__',\n",
       " '__hash__',\n",
       " '__init__',\n",
       " '__init_subclass__',\n",
       " '__le__',\n",
       " '__lt__',\n",
       " '__module__',\n",
       " '__ne__',\n",
       " '__new__',\n",
       " '__reduce__',\n",
       " '__reduce_ex__',\n",
       " '__repr__',\n",
       " '__setattr__',\n",
       " '__sizeof__',\n",
       " '__str__',\n",
       " '__subclasshook__',\n",
       " '__weakref__',\n",
       " '_api',\n",
       " '_json',\n",
       " 'contributors',\n",
       " 'coordinates',\n",
       " 'created_at',\n",
       " 'destroy',\n",
       " 'entities',\n",
       " 'favorite',\n",
       " 'favorite_count',\n",
       " 'favorited',\n",
       " 'geo',\n",
       " 'id',\n",
       " 'id_str',\n",
       " 'in_reply_to_screen_name',\n",
       " 'in_reply_to_status_id',\n",
       " 'in_reply_to_status_id_str',\n",
       " 'in_reply_to_user_id',\n",
       " 'in_reply_to_user_id_str',\n",
       " 'is_quote_status',\n",
       " 'lang',\n",
       " 'parse',\n",
       " 'parse_list',\n",
       " 'place',\n",
       " 'retweet',\n",
       " 'retweet_count',\n",
       " 'retweeted',\n",
       " 'retweeted_status',\n",
       " 'retweets',\n",
       " 'source',\n",
       " 'source_url',\n",
       " 'text',\n",
       " 'truncated']"
      ]
     },
     "execution_count": 5,
     "metadata": {},
     "output_type": "execute_result"
    }
   ],
   "source": [
    "dir(elon.status)"
   ]
  },
  {
   "cell_type": "code",
   "execution_count": 6,
   "metadata": {},
   "outputs": [
    {
     "data": {
      "text/plain": [
       "\"RT @Tesla: There's no place like home..especially if it has a Solar Roof.\\n\\nThis Kansas ranch got theirs installed in 4 days.\""
      ]
     },
     "execution_count": 6,
     "metadata": {},
     "output_type": "execute_result"
    }
   ],
   "source": [
    "elon.timeline()[0].text"
   ]
  },
  {
   "cell_type": "code",
   "execution_count": 7,
   "metadata": {},
   "outputs": [],
   "source": [
    "elon.timeline()[0].in_reply_to_screen_name"
   ]
  },
  {
   "cell_type": "code",
   "execution_count": 8,
   "metadata": {},
   "outputs": [
    {
     "data": {
      "text/plain": [
       "False"
      ]
     },
     "execution_count": 8,
     "metadata": {},
     "output_type": "execute_result"
    }
   ],
   "source": [
    "elon.timeline()[0].retweeted"
   ]
  },
  {
   "cell_type": "code",
   "execution_count": 9,
   "metadata": {},
   "outputs": [
    {
     "data": {
      "text/plain": [
       "datetime.datetime(2020, 10, 17, 6, 20, 21)"
      ]
     },
     "execution_count": 9,
     "metadata": {},
     "output_type": "execute_result"
    }
   ],
   "source": [
    "elon.timeline()[0].created_at"
   ]
  },
  {
   "cell_type": "code",
   "execution_count": 10,
   "metadata": {},
   "outputs": [
    {
     "data": {
      "text/plain": [
       "'The gauntlet has been thrown down! \\n\\nThe prophecy will be fulfilled. \\n\\nModel S price changes to $69,420 tonight!'"
      ]
     },
     "execution_count": 10,
     "metadata": {},
     "output_type": "execute_result"
    }
   ],
   "source": [
    "# How to Get the Text of a Tweet\n",
    "elon.timeline(\n",
    "            count=200, exclude_replies=True, include_rts=False,\n",
    "            tweet_mode='extended', since_id=None)[0].full_text"
   ]
  },
  {
   "cell_type": "markdown",
   "metadata": {},
   "source": [
    "## Understanding the Analysis"
   ]
  },
  {
   "cell_type": "code",
   "execution_count": 11,
   "metadata": {},
   "outputs": [],
   "source": [
    "\"\"\"SQLAlchemy models and utility functions for TwitOff.\"\"\"\n",
    "from flask_sqlalchemy import SQLAlchemy\n",
    "\n",
    "DB = SQLAlchemy()\n",
    "\n",
    "\n",
    "class User(DB.Model):\n",
    "    \"\"\"Twitter users corresponding to Tweets in the Tweet table.\"\"\"\n",
    "    id = DB.Column(DB.BigInteger, primary_key=True)\n",
    "    name = DB.Column(DB.String(15), nullable=False)\n",
    "    # Tweet IDs are ordinal ints, so can be used to fetch only more recent\n",
    "    newest_tweet_id = DB.Column(DB.BigInteger)\n",
    "\n",
    "    def __repr__(self):\n",
    "        return '<User {}>'.format(self.name)\n",
    "\n",
    "\n",
    "class Tweet(DB.Model):\n",
    "    \"\"\"Tweets and their embeddings from Basilica.\"\"\"\n",
    "    id = DB.Column(DB.BigInteger, primary_key=True)\n",
    "    text = DB.Column(DB.Unicode(300))  # Allowing for full + links\n",
    "    embedding = DB.Column(DB.PickleType, nullable=False)\n",
    "    user_id = DB.Column(DB.BigInteger, DB.ForeignKey('user.id'), nullable=False)\n",
    "    user = DB.relationship('User', backref=DB.backref('tweets', lazy=True))\n",
    "\n",
    "    def __repr__(self):\n",
    "        return '<Tweet {}>'.format(self.text)"
   ]
  },
  {
   "cell_type": "code",
   "execution_count": 21,
   "metadata": {},
   "outputs": [],
   "source": [
    "import spacy\n",
    "nlp = spacy.load('en_core_web_md')"
   ]
  },
  {
   "cell_type": "code",
   "execution_count": 30,
   "metadata": {},
   "outputs": [
    {
     "name": "stdout",
     "output_type": "stream",
     "text": [
      "The gauntlet has been thrown down! \n",
      "\n",
      "The prophecy will be fulfilled. \n",
      "\n",
      "Model S price changes to $69,420 tonight!\n",
      "Characters in Tweet: 112 \n",
      "\n",
      "Shape (300,)\n",
      "[-9.4506284e-03  1.5336229e-01 -2.5372095e-03 -9.5228769e-02\n",
      " -2.7187144e-02 -1.0545822e-01 -1.6963283e-03  4.8190664e-02\n",
      " -2.1860823e-02  1.8075575e+00 -1.1649820e-01  1.1165074e-01\n",
      "  5.4758918e-02 -1.8347213e-02 -4.3208938e-02 -3.8607262e-02\n",
      " -8.6710207e-02  9.1198415e-01 -1.3321900e-01 -2.7166331e-02\n",
      " -2.6441609e-02 -4.9684543e-02 -2.8614223e-02  5.8328699e-02\n",
      " -6.8295249e-03  1.0789394e-01 -8.1784010e-02  2.0494087e-02\n",
      " -2.6310230e-02  3.7932806e-02]\n"
     ]
    }
   ],
   "source": [
    "# Example of Embedding\n",
    "example_tweet = elon.timeline(\n",
    "            count=200, exclude_replies=True, include_rts=False,\n",
    "            tweet_mode='extended', since_id=None)[0].full_text\n",
    "print(example_tweet)\n",
    "print(\"Characters in Tweet:\", len(example_tweet), \"\\n\")\n",
    "\n",
    "vector = nlp(example_tweet).vector\n",
    "print('Shape', vector.shape)\n",
    "print(vector[:30])"
   ]
  },
  {
   "cell_type": "code",
   "execution_count": 31,
   "metadata": {},
   "outputs": [
    {
     "name": "stdout",
     "output_type": "stream",
     "text": [
      "Will be less roomy with 3 vacuum rocket engines added https://t.co/pKtDFdiZYC\n",
      "Characters in Tweet: 77 \n",
      "\n",
      "Shape (300,)\n",
      "[-0.08404455  0.11927336 -0.13547546 -0.02787445 -0.08094203 -0.10540713\n",
      " -0.14473881 -0.14430866  0.16513301  1.3458518   0.06666209 -0.10184363\n",
      " -0.09117419  0.0021664  -0.27958182 -0.15109317 -0.01114936  1.34824\n",
      " -0.34028542  0.05826197 -0.13286272  0.01760194 -0.02729966 -0.03167208\n",
      " -0.09737719  0.09402583 -0.15103136 -0.048516    0.1156179   0.03222555]\n"
     ]
    }
   ],
   "source": [
    "# Example of Embedding\n",
    "roomy = elon.timeline(\n",
    "            count=200, exclude_replies=True, include_rts=False,\n",
    "            tweet_mode='extended', since_id=None)[1].full_text\n",
    "print(roomy_tweet)\n",
    "print(\"Characters in Tweet:\", len(roomy_tweet), \"\\n\")\n",
    "\n",
    "vector = nlp(example_tweet).vector\n",
    "print('Shape', vector.shape)\n",
    "print(vector[:30])"
   ]
  },
  {
   "cell_type": "code",
   "execution_count": 32,
   "metadata": {},
   "outputs": [
    {
     "name": "stdout",
     "output_type": "stream",
     "text": [
      "Rewatched Young Frankenstein this weekend. Still awesome. Ovaltine? https://t.co/WiMdyFSuiq\n",
      "Characters in Tweet: 91 \n",
      "\n",
      "Shape (300,)\n",
      "[ 0.04336233  0.08990633 -0.07694017 -0.12693374 -0.01657242  0.03619684\n",
      "  0.0665415  -0.09073585  0.05467108  1.3778566  -0.2515944   0.11460087\n",
      "  0.08428337  0.05942682  0.00580774 -0.0925743   0.0160935   0.5512089\n",
      " -0.02123524 -0.00896758  0.171113   -0.08572566  0.11272017 -0.13973583\n",
      " -0.04344182  0.18941484 -0.16934758 -0.06531025  0.12107075  0.063259  ]\n"
     ]
    }
   ],
   "source": [
    "# Example of Embedding\n",
    "example_tweet = elon.timeline(\n",
    "            count=200, exclude_replies=True, include_rts=False,\n",
    "            tweet_mode='extended', since_id=None)[8].full_text\n",
    "print(example_tweet)\n",
    "print(\"Characters in Tweet:\", len(example_tweet), \"\\n\")\n",
    "\n",
    "vector = nlp(example_tweet).vector\n",
    "print('Shape', vector.shape)\n",
    "print(vector[:30])"
   ]
  },
  {
   "cell_type": "code",
   "execution_count": 17,
   "metadata": {},
   "outputs": [],
   "source": [
    "def add_or_update_user(username):\n",
    "    try:\n",
    "        # Get User from Username from API\n",
    "        twitter_user = TWITTER.get_user(username)\n",
    "        # Create a Row in User Table\n",
    "        db_user = User(id=twitter_user.id, name=username)\n",
    "        \n",
    "        # Get Tweets from Username from API\n",
    "        tweets = twitter_user.timeline(\n",
    "            count=200, exclude_replies=True, include_rts=False,\n",
    "            # ?- What happens if db_user does not have a newest_tweet_id? -?\n",
    "            tweet_mode='extended', since_id=db_user.newest_tweet_id)\n",
    "        # Get newest_tweet_id\n",
    "        if tweets:\n",
    "            db_user.newest_tweet_id = tweets[0].id\n",
    "        for tweet in tweets:\n",
    "            embedding = vectorize_tweet(tweet.full_text)\n",
    "            \n",
    "            \n",
    "    except Exception as e:\n",
    "        print('Error processiing {}: {}'.format(username, e))\n",
    "        raise e\n",
    "        \n",
    "    else:\n",
    "        print(\"Commit Changes if in App\")\n",
    "        return db_user\n",
    "    "
   ]
  },
  {
   "cell_type": "code",
   "execution_count": 18,
   "metadata": {},
   "outputs": [
    {
     "name": "stdout",
     "output_type": "stream",
     "text": [
      "Commit Changes if in App\n"
     ]
    }
   ],
   "source": [
    "mb = add_or_update_user('MorningBrew')"
   ]
  },
  {
   "cell_type": "code",
   "execution_count": 19,
   "metadata": {},
   "outputs": [
    {
     "data": {
      "text/plain": [
       "1317226185118654472"
      ]
     },
     "execution_count": 19,
     "metadata": {},
     "output_type": "execute_result"
    }
   ],
   "source": [
    "mb.newest_tweet_id"
   ]
  },
  {
   "cell_type": "code",
   "execution_count": 33,
   "metadata": {},
   "outputs": [
    {
     "name": "stdout",
     "output_type": "stream",
     "text": [
      "Rewatched Young Frankenstein this weekend. Still awesome. Ovaltine? https://t.co/WiMdyFSuiq\n",
      "Characters in Tweet: 91 \n",
      "\n",
      "Shape (300,)\n",
      "[ 0.04336233  0.08990633 -0.07694017 -0.12693374 -0.01657242  0.03619684\n",
      "  0.0665415  -0.09073585  0.05467108  1.3778566  -0.2515944   0.11460087\n",
      "  0.08428337  0.05942682  0.00580774 -0.0925743   0.0160935   0.5512089\n",
      " -0.02123524 -0.00896758  0.171113   -0.08572566  0.11272017 -0.13973583\n",
      " -0.04344182  0.18941484 -0.16934758 -0.06531025  0.12107075  0.063259  ]\n"
     ]
    }
   ],
   "source": [
    "# Example of Embedding\n",
    "example_tweet = elon.timeline(\n",
    "            count=200, exclude_replies=True, include_rts=False,\n",
    "            tweet_mode='extended', since_id=None)[8].full_text\n",
    "print(example_tweet)\n",
    "print(\"Characters in Tweet:\", len(example_tweet), \"\\n\")\n",
    "\n",
    "vector = nlp(example_tweet).vector\n",
    "print('Shape', vector.shape)\n",
    "print(vector[:30])"
   ]
  },
  {
   "cell_type": "code",
   "execution_count": null,
   "metadata": {},
   "outputs": [],
   "source": [
    "# Vectorizing a phrase/doc ->\n",
    "# A real-valued meaning representation. \n",
    "# Defaults to an average of the token vectors."
   ]
  },
  {
   "cell_type": "code",
   "execution_count": null,
   "metadata": {},
   "outputs": [],
   "source": []
  },
  {
   "cell_type": "code",
   "execution_count": null,
   "metadata": {},
   "outputs": [],
   "source": []
  },
  {
   "cell_type": "code",
   "execution_count": null,
   "metadata": {},
   "outputs": [],
   "source": []
  },
  {
   "cell_type": "code",
   "execution_count": null,
   "metadata": {},
   "outputs": [],
   "source": []
  },
  {
   "cell_type": "code",
   "execution_count": null,
   "metadata": {},
   "outputs": [],
   "source": []
  },
  {
   "cell_type": "code",
   "execution_count": null,
   "metadata": {},
   "outputs": [],
   "source": []
  },
  {
   "cell_type": "code",
   "execution_count": null,
   "metadata": {},
   "outputs": [],
   "source": []
  },
  {
   "cell_type": "code",
   "execution_count": null,
   "metadata": {},
   "outputs": [],
   "source": []
  },
  {
   "cell_type": "code",
   "execution_count": null,
   "metadata": {},
   "outputs": [],
   "source": []
  },
  {
   "cell_type": "code",
   "execution_count": null,
   "metadata": {},
   "outputs": [],
   "source": []
  }
 ],
 "metadata": {
  "kernelspec": {
   "display_name": "twit_compare",
   "language": "python",
   "name": "twit_compare"
  },
  "language_info": {
   "codemirror_mode": {
    "name": "ipython",
    "version": 3
   },
   "file_extension": ".py",
   "mimetype": "text/x-python",
   "name": "python",
   "nbconvert_exporter": "python",
   "pygments_lexer": "ipython3",
   "version": "3.8.1"
  }
 },
 "nbformat": 4,
 "nbformat_minor": 4
}

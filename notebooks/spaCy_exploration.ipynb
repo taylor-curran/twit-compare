{
 "cells": [
  {
   "cell_type": "code",
   "execution_count": null,
   "metadata": {},
   "outputs": [],
   "source": []
  },
  {
   "cell_type": "code",
   "execution_count": null,
   "metadata": {},
   "outputs": [],
   "source": []
  },
  {
   "cell_type": "code",
   "execution_count": null,
   "metadata": {},
   "outputs": [],
   "source": []
  },
  {
   "cell_type": "code",
   "execution_count": null,
   "metadata": {},
   "outputs": [],
   "source": []
  },
  {
   "cell_type": "code",
   "execution_count": null,
   "metadata": {},
   "outputs": [],
   "source": []
  },
  {
   "cell_type": "code",
   "execution_count": null,
   "metadata": {},
   "outputs": [],
   "source": []
  },
  {
   "cell_type": "code",
   "execution_count": null,
   "metadata": {},
   "outputs": [],
   "source": []
  },
  {
   "cell_type": "code",
   "execution_count": null,
   "metadata": {},
   "outputs": [],
   "source": []
  },
  {
   "cell_type": "markdown",
   "metadata": {},
   "source": [
    "## Understanding Tweepy"
   ]
  },
  {
   "cell_type": "code",
   "execution_count": 1,
   "metadata": {},
   "outputs": [],
   "source": [
    "# to interact with Twitter API\n",
    "import tweepy\n",
    "# for Authenticaion Keys\n",
    "from os import getenv"
   ]
  },
  {
   "cell_type": "code",
   "execution_count": 2,
   "metadata": {},
   "outputs": [],
   "source": [
    "# Load Environment Variables\n",
    "TWITTER_API_KEY = getenv('TWITTER_API_KEY')\n",
    "TWITTER_API_KEY_SECRET = getenv('TWITTER_API_KEY_SECRET')"
   ]
  },
  {
   "cell_type": "code",
   "execution_count": 3,
   "metadata": {},
   "outputs": [],
   "source": [
    "# Achive Authorization\n",
    "auth = tweepy.OAuthHandler(TWITTER_API_KEY, TWITTER_API_KEY_SECRET)\n",
    "TWITTER = tweepy.API(auth)"
   ]
  },
  {
   "cell_type": "code",
   "execution_count": 4,
   "metadata": {},
   "outputs": [],
   "source": [
    "# Get Information on a Specific Twitter User\n",
    "elon = TWITTER.get_user('elonmusk')"
   ]
  },
  {
   "cell_type": "code",
   "execution_count": 5,
   "metadata": {},
   "outputs": [
    {
     "data": {
      "text/plain": [
       "['__class__',\n",
       " '__delattr__',\n",
       " '__dict__',\n",
       " '__dir__',\n",
       " '__doc__',\n",
       " '__eq__',\n",
       " '__format__',\n",
       " '__ge__',\n",
       " '__getattribute__',\n",
       " '__getstate__',\n",
       " '__gt__',\n",
       " '__hash__',\n",
       " '__init__',\n",
       " '__init_subclass__',\n",
       " '__le__',\n",
       " '__lt__',\n",
       " '__module__',\n",
       " '__ne__',\n",
       " '__new__',\n",
       " '__reduce__',\n",
       " '__reduce_ex__',\n",
       " '__repr__',\n",
       " '__setattr__',\n",
       " '__sizeof__',\n",
       " '__str__',\n",
       " '__subclasshook__',\n",
       " '__weakref__',\n",
       " '_api',\n",
       " '_json',\n",
       " 'contributors_enabled',\n",
       " 'created_at',\n",
       " 'default_profile',\n",
       " 'default_profile_image',\n",
       " 'description',\n",
       " 'entities',\n",
       " 'favourites_count',\n",
       " 'follow',\n",
       " 'follow_request_sent',\n",
       " 'followers',\n",
       " 'followers_count',\n",
       " 'followers_ids',\n",
       " 'following',\n",
       " 'friends',\n",
       " 'friends_count',\n",
       " 'geo_enabled',\n",
       " 'has_extended_profile',\n",
       " 'id',\n",
       " 'id_str',\n",
       " 'is_translation_enabled',\n",
       " 'is_translator',\n",
       " 'lang',\n",
       " 'listed_count',\n",
       " 'lists',\n",
       " 'lists_memberships',\n",
       " 'lists_subscriptions',\n",
       " 'location',\n",
       " 'name',\n",
       " 'notifications',\n",
       " 'parse',\n",
       " 'parse_list',\n",
       " 'profile_background_color',\n",
       " 'profile_background_image_url',\n",
       " 'profile_background_image_url_https',\n",
       " 'profile_background_tile',\n",
       " 'profile_banner_url',\n",
       " 'profile_image_url',\n",
       " 'profile_image_url_https',\n",
       " 'profile_link_color',\n",
       " 'profile_location',\n",
       " 'profile_sidebar_border_color',\n",
       " 'profile_sidebar_fill_color',\n",
       " 'profile_text_color',\n",
       " 'profile_use_background_image',\n",
       " 'protected',\n",
       " 'screen_name',\n",
       " 'status',\n",
       " 'statuses_count',\n",
       " 'time_zone',\n",
       " 'timeline',\n",
       " 'translator_type',\n",
       " 'unfollow',\n",
       " 'url',\n",
       " 'utc_offset',\n",
       " 'verified']"
      ]
     },
     "execution_count": 5,
     "metadata": {},
     "output_type": "execute_result"
    }
   ],
   "source": [
    "dir(elon)"
   ]
  },
  {
   "cell_type": "code",
   "execution_count": 6,
   "metadata": {},
   "outputs": [
    {
     "data": {
      "text/plain": [
       "['__class__',\n",
       " '__delattr__',\n",
       " '__dict__',\n",
       " '__dir__',\n",
       " '__doc__',\n",
       " '__eq__',\n",
       " '__format__',\n",
       " '__ge__',\n",
       " '__getattribute__',\n",
       " '__getstate__',\n",
       " '__gt__',\n",
       " '__hash__',\n",
       " '__init__',\n",
       " '__init_subclass__',\n",
       " '__le__',\n",
       " '__lt__',\n",
       " '__module__',\n",
       " '__ne__',\n",
       " '__new__',\n",
       " '__reduce__',\n",
       " '__reduce_ex__',\n",
       " '__repr__',\n",
       " '__setattr__',\n",
       " '__sizeof__',\n",
       " '__str__',\n",
       " '__subclasshook__',\n",
       " '__weakref__',\n",
       " '_api',\n",
       " '_json',\n",
       " 'contributors',\n",
       " 'coordinates',\n",
       " 'created_at',\n",
       " 'destroy',\n",
       " 'entities',\n",
       " 'favorite',\n",
       " 'favorite_count',\n",
       " 'favorited',\n",
       " 'geo',\n",
       " 'id',\n",
       " 'id_str',\n",
       " 'in_reply_to_screen_name',\n",
       " 'in_reply_to_status_id',\n",
       " 'in_reply_to_status_id_str',\n",
       " 'in_reply_to_user_id',\n",
       " 'in_reply_to_user_id_str',\n",
       " 'is_quote_status',\n",
       " 'lang',\n",
       " 'parse',\n",
       " 'parse_list',\n",
       " 'place',\n",
       " 'retweet',\n",
       " 'retweet_count',\n",
       " 'retweeted',\n",
       " 'retweets',\n",
       " 'source',\n",
       " 'source_url',\n",
       " 'text',\n",
       " 'truncated']"
      ]
     },
     "execution_count": 6,
     "metadata": {},
     "output_type": "execute_result"
    }
   ],
   "source": [
    "dir(elon.status)"
   ]
  },
  {
   "cell_type": "code",
   "execution_count": 7,
   "metadata": {},
   "outputs": [
    {
     "data": {
      "text/plain": [
       "'@juanjacobs @jwangARK Firmware is probably a slightly more accurate description, but yes'"
      ]
     },
     "execution_count": 7,
     "metadata": {},
     "output_type": "execute_result"
    }
   ],
   "source": [
    "elon.timeline()[0].text"
   ]
  },
  {
   "cell_type": "code",
   "execution_count": 8,
   "metadata": {},
   "outputs": [
    {
     "data": {
      "text/plain": [
       "'juanjacobs'"
      ]
     },
     "execution_count": 8,
     "metadata": {},
     "output_type": "execute_result"
    }
   ],
   "source": [
    "elon.timeline()[0].in_reply_to_screen_name"
   ]
  },
  {
   "cell_type": "code",
   "execution_count": 9,
   "metadata": {},
   "outputs": [
    {
     "data": {
      "text/plain": [
       "False"
      ]
     },
     "execution_count": 9,
     "metadata": {},
     "output_type": "execute_result"
    }
   ],
   "source": [
    "elon.timeline()[0].retweeted"
   ]
  },
  {
   "cell_type": "code",
   "execution_count": 10,
   "metadata": {},
   "outputs": [
    {
     "data": {
      "text/plain": [
       "datetime.datetime(2020, 10, 17, 19, 7, 39)"
      ]
     },
     "execution_count": 10,
     "metadata": {},
     "output_type": "execute_result"
    }
   ],
   "source": [
    "elon.timeline()[0].created_at"
   ]
  },
  {
   "cell_type": "code",
   "execution_count": 11,
   "metadata": {},
   "outputs": [
    {
     "data": {
      "text/plain": [
       "'The gauntlet has been thrown down! \\n\\nThe prophecy will be fulfilled. \\n\\nModel S price changes to $69,420 tonight!'"
      ]
     },
     "execution_count": 11,
     "metadata": {},
     "output_type": "execute_result"
    }
   ],
   "source": [
    "# How to Get the Text of a Tweet\n",
    "elon.timeline(\n",
    "            count=200, exclude_replies=True, include_rts=False,\n",
    "            tweet_mode='extended', since_id=None)[0].full_text"
   ]
  },
  {
   "cell_type": "markdown",
   "metadata": {},
   "source": [
    "## Understanding the Analysis"
   ]
  },
  {
   "cell_type": "code",
   "execution_count": 12,
   "metadata": {},
   "outputs": [],
   "source": [
    "# Import NLP Library\n",
    "import spacy\n",
    "# Load NN Model w/ Default Word Vectors\n",
    "nlp = spacy.load('en_core_web_md')"
   ]
  },
  {
   "cell_type": "markdown",
   "metadata": {},
   "source": [
    "### Vectorizing a phrase/doc\n",
    "-> A real-valued meaning representation. \n",
    "\n",
    "-> Defaults to an average of the token vectors.\n",
    "\n",
    "See:\n",
    "\n",
    "https://spacy.io/api/doc#vector\n",
    "\n",
    "https://spacy.io/usage/vectors-similarity"
   ]
  },
  {
   "cell_type": "markdown",
   "metadata": {},
   "source": [
    "#### Elon Musk Tweets"
   ]
  },
  {
   "cell_type": "code",
   "execution_count": 13,
   "metadata": {},
   "outputs": [],
   "source": [
    "# State Example User\n",
    "elon = TWITTER.get_user('elonmusk')"
   ]
  },
  {
   "cell_type": "code",
   "execution_count": 14,
   "metadata": {},
   "outputs": [
    {
     "name": "stdout",
     "output_type": "stream",
     "text": [
      "The gauntlet has been thrown down! \n",
      "\n",
      "The prophecy will be fulfilled. \n",
      "\n",
      "Model S price changes to $69,420 tonight!\n",
      "Characters in Tweet: 112 \n",
      "\n",
      "Shape (300,)\n",
      "[-9.4506284e-03  1.5336229e-01 -2.5372095e-03 -9.5228769e-02\n",
      " -2.7187144e-02 -1.0545822e-01 -1.6963283e-03  4.8190664e-02\n",
      " -2.1860823e-02  1.8075575e+00 -1.1649820e-01  1.1165074e-01\n",
      "  5.4758918e-02 -1.8347213e-02 -4.3208938e-02 -3.8607262e-02\n",
      " -8.6710207e-02  9.1198415e-01 -1.3321900e-01 -2.7166331e-02\n",
      " -2.6441609e-02 -4.9684543e-02 -2.8614223e-02  5.8328699e-02\n",
      " -6.8295249e-03  1.0789394e-01 -8.1784010e-02  2.0494087e-02\n",
      " -2.6310230e-02  3.7932806e-02]\n"
     ]
    }
   ],
   "source": [
    "# Example of Embedding\n",
    "gauntlet_tweet = elon.timeline(\n",
    "            count=200, exclude_replies=True, include_rts=False,\n",
    "            tweet_mode='extended', since_id=None)[0].full_text\n",
    "print(gauntlet_tweet)\n",
    "print(\"Characters in Tweet:\", len(gauntlet_tweet), \"\\n\")\n",
    "\n",
    "vector = nlp(gauntlet_tweet).vector\n",
    "print('Shape', vector.shape)\n",
    "print(vector[:30])"
   ]
  },
  {
   "cell_type": "code",
   "execution_count": 15,
   "metadata": {},
   "outputs": [
    {
     "name": "stdout",
     "output_type": "stream",
     "text": [
      "Will be less roomy with 3 vacuum rocket engines added https://t.co/pKtDFdiZYC\n",
      "Characters in Tweet: 77 \n",
      "\n",
      "Shape (300,)\n",
      "[-0.08404455  0.11927336 -0.13547546 -0.02787445 -0.08094203 -0.10540713\n",
      " -0.14473881 -0.14430866  0.16513301  1.3458518   0.06666209 -0.10184363\n",
      " -0.09117419  0.0021664  -0.27958182 -0.15109317 -0.01114936  1.34824\n",
      " -0.34028542  0.05826197 -0.13286272  0.01760194 -0.02729966 -0.03167208\n",
      " -0.09737719  0.09402583 -0.15103136 -0.048516    0.1156179   0.03222555]\n"
     ]
    }
   ],
   "source": [
    "# Example of Embedding\n",
    "roomy_tweet = elon.timeline(\n",
    "            count=200, exclude_replies=True, include_rts=False,\n",
    "            tweet_mode='extended', since_id=None)[1].full_text\n",
    "print(roomy_tweet)\n",
    "print(\"Characters in Tweet:\", len(roomy_tweet), \"\\n\")\n",
    "\n",
    "vector = nlp(roomy_tweet).vector\n",
    "print('Shape', vector.shape)\n",
    "print(vector[:30])"
   ]
  },
  {
   "cell_type": "code",
   "execution_count": 16,
   "metadata": {},
   "outputs": [
    {
     "name": "stdout",
     "output_type": "stream",
     "text": [
      "Rewatched Young Frankenstein this weekend. Still awesome. Ovaltine? https://t.co/WiMdyFSuiq\n",
      "Characters in Tweet: 91 \n",
      "\n",
      "Shape (300,)\n",
      "[ 0.04336233  0.08990633 -0.07694017 -0.12693374 -0.01657242  0.03619684\n",
      "  0.0665415  -0.09073585  0.05467108  1.3778566  -0.2515944   0.11460087\n",
      "  0.08428337  0.05942682  0.00580774 -0.0925743   0.0160935   0.5512089\n",
      " -0.02123524 -0.00896758  0.171113   -0.08572566  0.11272017 -0.13973583\n",
      " -0.04344182  0.18941484 -0.16934758 -0.06531025  0.12107075  0.063259  ]\n"
     ]
    }
   ],
   "source": [
    "# Example of Embedding\n",
    "rewatched_tweet = elon.timeline(\n",
    "            count=200, exclude_replies=True, include_rts=False,\n",
    "            tweet_mode='extended', since_id=None)[8].full_text\n",
    "print(rewatched_tweet)\n",
    "print(\"Characters in Tweet:\", len(rewatched_tweet), \"\\n\")\n",
    "\n",
    "vector = nlp(rewatched_tweet).vector\n",
    "print('Shape', vector.shape)\n",
    "print(vector[:30])"
   ]
  },
  {
   "cell_type": "markdown",
   "metadata": {},
   "source": [
    "#### MorningBrew Tweets"
   ]
  },
  {
   "cell_type": "code",
   "execution_count": 17,
   "metadata": {},
   "outputs": [],
   "source": [
    "mb = TWITTER.get_user('MorningBrew')"
   ]
  },
  {
   "cell_type": "code",
   "execution_count": 18,
   "metadata": {},
   "outputs": [
    {
     "name": "stdout",
     "output_type": "stream",
     "text": [
      "Have a great weekend everyone &lt;3\n",
      "Characters in Tweet: 35 \n",
      "\n",
      "Shape (300,)\n",
      "[ 7.47425191e-04  1.77610993e-01 -1.61640152e-01 -3.16599756e-03\n",
      "  1.31394118e-01 -8.04710388e-02  1.07331716e-01 -1.58713430e-01\n",
      "  1.96298566e-02  2.24454284e+00 -1.20576426e-01 -7.09922910e-02\n",
      "  2.43200008e-02 -3.17635722e-02 -1.58640951e-01 -1.59043297e-01\n",
      " -8.88497159e-02  7.73969591e-01 -2.03505859e-01  7.24914297e-02\n",
      " -1.11009851e-01 -1.84286699e-01  1.33420145e-02 -2.63271462e-02\n",
      "  2.52532866e-02  5.07072806e-02 -7.16851428e-02 -6.18248582e-02\n",
      "  6.04867525e-02 -1.76978558e-02]\n"
     ]
    }
   ],
   "source": [
    "weekend_tweet = mb.timeline(\n",
    "            count=200, exclude_replies=True, include_rts=False,\n",
    "            tweet_mode='extended', since_id=None)[0].full_text\n",
    "print(weekend_tweet)\n",
    "print(\"Characters in Tweet:\", len(weekend_tweet), \"\\n\")\n",
    "\n",
    "vector = nlp(weekend_tweet).vector\n",
    "print('Shape', vector.shape)\n",
    "print(vector[:30])"
   ]
  },
  {
   "cell_type": "code",
   "execution_count": 19,
   "metadata": {},
   "outputs": [
    {
     "name": "stdout",
     "output_type": "stream",
     "text": [
      "Most companies: Let’s conduct a market analysis looking at competitive products, buying trends, option value, CPI fluctuations and then select a price that will place our product in a favorable position\n",
      "\n",
      "Tesla: sex and weed https://t.co/lP2Bdk1BJa\n",
      "Characters in Tweet: 247 \n",
      "\n",
      "Shape (300,)\n",
      "[-0.13101478  0.25659296 -0.06821233  0.02609474  0.13153425 -0.04175844\n",
      "  0.02653612 -0.06788127  0.00193392  1.8733026  -0.301463    0.01727908\n",
      "  0.02835705 -0.02690436 -0.0058216  -0.09144186 -0.08722001  1.3007772\n",
      " -0.1766076   0.03175659  0.01271561  0.03268842 -0.05577465 -0.08634067\n",
      " -0.04159696  0.15932964 -0.02774055  0.03130227  0.0397816   0.01205579]\n"
     ]
    }
   ],
   "source": [
    "most_tweet = mb.timeline(\n",
    "            count=200, exclude_replies=True, include_rts=False,\n",
    "            tweet_mode='extended', since_id=None)[2].full_text\n",
    "print(most_tweet)\n",
    "print(\"Characters in Tweet:\", len(most_tweet), \"\\n\")\n",
    "\n",
    "vector = nlp(most_tweet).vector\n",
    "print('Shape', vector.shape)\n",
    "print(vector[:30])"
   ]
  },
  {
   "cell_type": "code",
   "execution_count": 20,
   "metadata": {},
   "outputs": [
    {
     "name": "stdout",
     "output_type": "stream",
     "text": [
      "What stock lives in your head rent free?\n",
      "Characters in Tweet: 40 \n",
      "\n",
      "Shape (300,)\n",
      "[-0.03236389  0.18767375 -0.12933321 -0.01424167  0.2346611  -0.14320299\n",
      " -0.11365011 -0.11226565  0.08604945  2.293589   -0.41994277  0.10055289\n",
      "  0.05933633 -0.0736953  -0.09571348  0.00844477 -0.1388231   1.28989\n",
      " -0.18791042 -0.01218244  0.03391578 -0.04419067  0.04386834 -0.03780711\n",
      " -0.02163049  0.0673554  -0.04470244  0.09453979  0.1174009   0.13391137]\n"
     ]
    }
   ],
   "source": [
    "stock_tweet = mb.timeline(\n",
    "            count=200, exclude_replies=True, include_rts=False,\n",
    "            tweet_mode='extended', since_id=None)[10].full_text\n",
    "print(stock_tweet)\n",
    "print(\"Characters in Tweet:\", len(stock_tweet), \"\\n\")\n",
    "\n",
    "vector = nlp(stock_tweet).vector\n",
    "print('Shape', vector.shape)\n",
    "print(vector[:30])"
   ]
  },
  {
   "cell_type": "code",
   "execution_count": 21,
   "metadata": {},
   "outputs": [],
   "source": [
    "# I need every tweet to be a doc."
   ]
  },
  {
   "cell_type": "markdown",
   "metadata": {},
   "source": [
    "## Create CSV of Tweets & Handles"
   ]
  },
  {
   "cell_type": "code",
   "execution_count": 22,
   "metadata": {},
   "outputs": [],
   "source": [
    "example_users = [\n",
    "    'elonmusk', 'eminem', 'shakira', \n",
    "    'BarakObama', 'espn', 'NASA', \n",
    "    'BillGates', 'Oprah', 'badbanana',\n",
    "    'Buzzfeed', 'GuyKawasaki', 'KrangTNelson',\n",
    "    'AOC', 'TEDTalks', 'JenSincero', 'TheOnion',\n",
    "    'mindykaling', 'AdamMGrant', 'mashable', \n",
    "    'Charlie_Burris', 'NatureNews', 'ScienceChannel'\n",
    "]\n",
    "example_users_small = [\n",
    "    'OfficialKat', 'ConanOBrien', 'funnyordie',\n",
    "    'darth', 'netw3rk', 'davidchang', 'mental_floss',\n",
    "    'MorningBrew'\n",
    "]"
   ]
  },
  {
   "cell_type": "code",
   "execution_count": 23,
   "metadata": {},
   "outputs": [
    {
     "name": "stdout",
     "output_type": "stream",
     "text": [
      "elonmusk\n",
      "eminem\n",
      "shakira\n",
      "BarakObama\n",
      "espn\n",
      "NASA\n",
      "BillGates\n",
      "Oprah\n",
      "badbanana\n",
      "Buzzfeed\n",
      "GuyKawasaki\n",
      "KrangTNelson\n",
      "AOC\n",
      "TEDTalks\n",
      "JenSincero\n",
      "TheOnion\n",
      "mindykaling\n",
      "AdamMGrant\n",
      "mashable\n",
      "Charlie_Burris\n",
      "NatureNews\n",
      "ScienceChannel\n"
     ]
    }
   ],
   "source": [
    "# Get 10 Tweets from Each User\n",
    "# Return a Dictionary\n",
    "example_tweets = {}\n",
    "for twitter_handel in example_users:\n",
    "    user_api_conn = TWITTER.get_user(twitter_handel)\n",
    "    user_tweets = []\n",
    "    for tweet in range(10):\n",
    "        user_tweets.append(user_api_conn.timeline(\n",
    "            count=200, exclude_replies=True, include_rts=False,\n",
    "            tweet_mode='extended', since_id=None)[tweet].full_text)\n",
    "    print(twitter_handel)\n",
    "    example_tweets.update({twitter_handel: user_tweets})"
   ]
  },
  {
   "cell_type": "code",
   "execution_count": 24,
   "metadata": {},
   "outputs": [],
   "source": [
    "import pandas as pd"
   ]
  },
  {
   "cell_type": "code",
   "execution_count": 25,
   "metadata": {},
   "outputs": [],
   "source": [
    "large = pd.DataFrame(example_tweets)"
   ]
  },
  {
   "cell_type": "code",
   "execution_count": 26,
   "metadata": {},
   "outputs": [
    {
     "name": "stdout",
     "output_type": "stream",
     "text": [
      "(10, 22)\n"
     ]
    },
    {
     "data": {
      "text/html": [
       "<div>\n",
       "<style scoped>\n",
       "    .dataframe tbody tr th:only-of-type {\n",
       "        vertical-align: middle;\n",
       "    }\n",
       "\n",
       "    .dataframe tbody tr th {\n",
       "        vertical-align: top;\n",
       "    }\n",
       "\n",
       "    .dataframe thead th {\n",
       "        text-align: right;\n",
       "    }\n",
       "</style>\n",
       "<table border=\"1\" class=\"dataframe\">\n",
       "  <thead>\n",
       "    <tr style=\"text-align: right;\">\n",
       "      <th></th>\n",
       "      <th>elonmusk</th>\n",
       "      <th>eminem</th>\n",
       "      <th>shakira</th>\n",
       "      <th>BarakObama</th>\n",
       "      <th>espn</th>\n",
       "      <th>NASA</th>\n",
       "      <th>BillGates</th>\n",
       "      <th>Oprah</th>\n",
       "      <th>badbanana</th>\n",
       "      <th>Buzzfeed</th>\n",
       "      <th>...</th>\n",
       "      <th>AOC</th>\n",
       "      <th>TEDTalks</th>\n",
       "      <th>JenSincero</th>\n",
       "      <th>TheOnion</th>\n",
       "      <th>mindykaling</th>\n",
       "      <th>AdamMGrant</th>\n",
       "      <th>mashable</th>\n",
       "      <th>Charlie_Burris</th>\n",
       "      <th>NatureNews</th>\n",
       "      <th>ScienceChannel</th>\n",
       "    </tr>\n",
       "  </thead>\n",
       "  <tbody>\n",
       "    <tr>\n",
       "      <th>0</th>\n",
       "      <td>The gauntlet has been thrown down! \\n\\nThe pro...</td>\n",
       "      <td>Proud of Matt for writing this, everyone needs...</td>\n",
       "      <td>Querido @carlosvives, lindísima esta canción! ...</td>\n",
       "      <td>The country's really getting too concerned abo...</td>\n",
       "      <td>DOMINANCE.\\n\\nClemson takes down Georgia Tech ...</td>\n",
       "      <td>Born after Nov. 1, 2000? 👶 You're a member of ...</td>\n",
       "      <td>Europe has an opportunity to get its economy b...</td>\n",
       "      <td>Great job friend @GayleKing. Especially commen...</td>\n",
       "      <td>Congratulations, Canada.</td>\n",
       "      <td>Sophie Turner And Joe Jonas Did Their Best Kyl...</td>\n",
       "      <td>...</td>\n",
       "      <td>Thank you everyone for the birthday wishes!\\n\\...</td>\n",
       "      <td>How algorithms (for fish!) and big data (about...</td>\n",
       "      <td>Kevin Hart listens to You Are a Badass while o...</td>\n",
       "      <td>Russian Scientists Grip Heads In Agony As Tele...</td>\n",
       "      <td>At least he has a great sense of humor. \\nVia ...</td>\n",
       "      <td>A modern drag on happiness: time confetti.\\n\\n...</td>\n",
       "      <td>Resources for adults who think climate science...</td>\n",
       "      <td>Pruitt continuing to start JG feels like he’s ...</td>\n",
       "      <td>Vaccines often work poorly in older people, me...</td>\n",
       "      <td>This year, the Nobel Prize award in physics we...</td>\n",
       "    </tr>\n",
       "    <tr>\n",
       "      <th>1</th>\n",
       "      <td>Will be less roomy with 3 vacuum rocket engine...</td>\n",
       "      <td>So happy to be a part of the sequel- @BigSean ...</td>\n",
       "      <td>Las Latinas somos la fuerza detrás de nuestras...</td>\n",
       "      <td>Sometimes I wonder if I really should have tak...</td>\n",
       "      <td>The time for talk is over ...🥊\\n\\n#LomaLopez |...</td>\n",
       "      <td>It’s been quite an eventful week! \\n\\n👩‍🚀 A ne...</td>\n",
       "      <td>The COVID-19 pandemic has set back efforts to ...</td>\n",
       "      <td>Can’t wait to see what @ava does with @isabelw...</td>\n",
       "      <td>I think America would have learned just as muc...</td>\n",
       "      <td>I Shed A Lot And I Swear By This Broom To Get ...</td>\n",
       "      <td>...</td>\n",
       "      <td>When politicians use faith as an excuse to pas...</td>\n",
       "      <td>\"Even if climate change stopped right now, the...</td>\n",
       "      <td>When we push against who we naturally are, we ...</td>\n",
       "      <td>Blue Lives Matter Supporters Say Kyle Rittenho...</td>\n",
       "      <td>I was so lucky to work with Peter. His passion...</td>\n",
       "      <td>The best conversation partners are unafraid of...</td>\n",
       "      <td>The world's largest 3D-printed boat was built ...</td>\n",
       "      <td>Lol come on https://t.co/ss3LDnhENr</td>\n",
       "      <td>Collaborating in science is nothing new. But t...</td>\n",
       "      <td>When a Cordyceps fungus attacks a host, the my...</td>\n",
       "    </tr>\n",
       "    <tr>\n",
       "      <th>2</th>\n",
       "      <td>“What is love? Baby don’t hurt me.”— Winston C...</td>\n",
       "      <td>Honored to be @YoungMAMusic’s first guest on h...</td>\n",
       "      <td>Latinas may be a minority but our voices will ...</td>\n",
       "      <td>This health care discussion has me thinking......</td>\n",
       "      <td>Yussuf Poulsen with a stunner for RB Leipzig 😱...</td>\n",
       "      <td>This is where stars are born. \\n\\nThis @NASAHu...</td>\n",
       "      <td>.@StephenCurry30’s work in the community is as...</td>\n",
       "      <td>😂😂😂 #TheOprahConversation https://t.co/59s1Zy5W3F</td>\n",
       "      <td>\"For the final segment tonight, you'll each ha...</td>\n",
       "      <td>26 Teen Characters That You Forgot Were Actual...</td>\n",
       "      <td>...</td>\n",
       "      <td>Maybe we should be. https://t.co/AC5491EW56</td>\n",
       "      <td>Here's what people *actually* need to lift the...</td>\n",
       "      <td>Take the risks and stay the course until you r...</td>\n",
       "      <td>Today Now!: How To Pretend You Give A Shit Abo...</td>\n",
       "      <td>And if that happens to be 3pm, so be it. @Bare...</td>\n",
       "      <td>The root of insecurity is craving the approval...</td>\n",
       "      <td>This new 3D printing technique is totally mesm...</td>\n",
       "      <td>It just never ends, that’s probably the toughe...</td>\n",
       "      <td>\"It seems that the only way to be successful i...</td>\n",
       "      <td>This ancient Viking mortuary house was built t...</td>\n",
       "    </tr>\n",
       "    <tr>\n",
       "      <th>3</th>\n",
       "      <td>🤘 The Illuminaughty 🤘</td>\n",
       "      <td>Vote for Sway! https://t.co/p4S36kWBlP</td>\n",
       "      <td>14/10/20 - Happy place. \\nPics by @JaumedeLaig...</td>\n",
       "      <td>I hope Congress does not provide health care. ...</td>\n",
       "      <td>Time for Countdown to GameDay with @jasonfitz ...</td>\n",
       "      <td>\"I'd love to live on the Moon. Why not?\"\\n\\nIn...</td>\n",
       "      <td>Dr. Tunji Funsho’s work with @Rotary was essen...</td>\n",
       "      <td>Hey @mariahcarey, talent runs in your #lambily...</td>\n",
       "      <td>Before you focus all of your time and money to...</td>\n",
       "      <td>32 Tweets From This Month So Far That Sent Me ...</td>\n",
       "      <td>...</td>\n",
       "      <td>Genuine question for the media / law enforceme...</td>\n",
       "      <td>In this truly one-of-a-kind Talk, mega-produce...</td>\n",
       "      <td>Share your Badassery with the world why doncha...</td>\n",
       "      <td>Fox News Limits Pandemic Coverage To Avoid Giv...</td>\n",
       "      <td>Am I the only one who makes this face while pu...</td>\n",
       "      <td>Hey managers: the solution to your diversity p...</td>\n",
       "      <td>These Adidas sneakers could be a huge step for...</td>\n",
       "      <td>What an absolutely unacceptable, atrocious, un...</td>\n",
       "      <td>“The loss in research and human resources is i...</td>\n",
       "      <td>The \"Wow\" signal from 1977 rocked the scientif...</td>\n",
       "    </tr>\n",
       "    <tr>\n",
       "      <th>4</th>\n",
       "      <td>4th flight &amp;amp; landing for this booster http...</td>\n",
       "      <td>\"This is just the song to go ballistic on\" 🦖 t...</td>\n",
       "      <td>Feliz cumpleaños a mi hermano Tonino!! El más ...</td>\n",
       "      <td>I haven't twittered in a while.  Been very bus...</td>\n",
       "      <td>The MLB playoffs are going to be electric Satu...</td>\n",
       "      <td>⬜⛏️ Ice mining experiment, anyone?\\n\\nWe're te...</td>\n",
       "      <td>This honor is well deserved. COVID-19 is not j...</td>\n",
       "      <td>That’s a good idea! We just had water for our ...</td>\n",
       "      <td>Introducing “Murder Hornets” in May of 2020 is...</td>\n",
       "      <td>Viola Davis Opened Up About Working With Chadw...</td>\n",
       "      <td>...</td>\n",
       "      <td>I still can’t get over how bad the climate cha...</td>\n",
       "      <td>Deciding by majority vote seems like the best ...</td>\n",
       "      <td>You have got to get a handle on your thoughts ...</td>\n",
       "      <td>WWII Bomb Explodes During Disposal Operation h...</td>\n",
       "      <td>What’s the gif that best personifies you? Here...</td>\n",
       "      <td>There's no moral code requiring you to finish ...</td>\n",
       "      <td>The Google Grim Reaper has claimed another app...</td>\n",
       "      <td>These announcers are talking like there’s gonn...</td>\n",
       "      <td>Scientists have mapped the location and size o...</td>\n",
       "      <td>When frogs mate, the male climbs on the back o...</td>\n",
       "    </tr>\n",
       "  </tbody>\n",
       "</table>\n",
       "<p>5 rows × 22 columns</p>\n",
       "</div>"
      ],
      "text/plain": [
       "                                            elonmusk  \\\n",
       "0  The gauntlet has been thrown down! \\n\\nThe pro...   \n",
       "1  Will be less roomy with 3 vacuum rocket engine...   \n",
       "2  “What is love? Baby don’t hurt me.”— Winston C...   \n",
       "3                              🤘 The Illuminaughty 🤘   \n",
       "4  4th flight &amp; landing for this booster http...   \n",
       "\n",
       "                                              eminem  \\\n",
       "0  Proud of Matt for writing this, everyone needs...   \n",
       "1  So happy to be a part of the sequel- @BigSean ...   \n",
       "2  Honored to be @YoungMAMusic’s first guest on h...   \n",
       "3             Vote for Sway! https://t.co/p4S36kWBlP   \n",
       "4  \"This is just the song to go ballistic on\" 🦖 t...   \n",
       "\n",
       "                                             shakira  \\\n",
       "0  Querido @carlosvives, lindísima esta canción! ...   \n",
       "1  Las Latinas somos la fuerza detrás de nuestras...   \n",
       "2  Latinas may be a minority but our voices will ...   \n",
       "3  14/10/20 - Happy place. \\nPics by @JaumedeLaig...   \n",
       "4  Feliz cumpleaños a mi hermano Tonino!! El más ...   \n",
       "\n",
       "                                          BarakObama  \\\n",
       "0  The country's really getting too concerned abo...   \n",
       "1  Sometimes I wonder if I really should have tak...   \n",
       "2  This health care discussion has me thinking......   \n",
       "3  I hope Congress does not provide health care. ...   \n",
       "4  I haven't twittered in a while.  Been very bus...   \n",
       "\n",
       "                                                espn  \\\n",
       "0  DOMINANCE.\\n\\nClemson takes down Georgia Tech ...   \n",
       "1  The time for talk is over ...🥊\\n\\n#LomaLopez |...   \n",
       "2  Yussuf Poulsen with a stunner for RB Leipzig 😱...   \n",
       "3  Time for Countdown to GameDay with @jasonfitz ...   \n",
       "4  The MLB playoffs are going to be electric Satu...   \n",
       "\n",
       "                                                NASA  \\\n",
       "0  Born after Nov. 1, 2000? 👶 You're a member of ...   \n",
       "1  It’s been quite an eventful week! \\n\\n👩‍🚀 A ne...   \n",
       "2  This is where stars are born. \\n\\nThis @NASAHu...   \n",
       "3  \"I'd love to live on the Moon. Why not?\"\\n\\nIn...   \n",
       "4  ⬜⛏️ Ice mining experiment, anyone?\\n\\nWe're te...   \n",
       "\n",
       "                                           BillGates  \\\n",
       "0  Europe has an opportunity to get its economy b...   \n",
       "1  The COVID-19 pandemic has set back efforts to ...   \n",
       "2  .@StephenCurry30’s work in the community is as...   \n",
       "3  Dr. Tunji Funsho’s work with @Rotary was essen...   \n",
       "4  This honor is well deserved. COVID-19 is not j...   \n",
       "\n",
       "                                               Oprah  \\\n",
       "0  Great job friend @GayleKing. Especially commen...   \n",
       "1  Can’t wait to see what @ava does with @isabelw...   \n",
       "2  😂😂😂 #TheOprahConversation https://t.co/59s1Zy5W3F   \n",
       "3  Hey @mariahcarey, talent runs in your #lambily...   \n",
       "4  That’s a good idea! We just had water for our ...   \n",
       "\n",
       "                                           badbanana  \\\n",
       "0                           Congratulations, Canada.   \n",
       "1  I think America would have learned just as muc...   \n",
       "2  \"For the final segment tonight, you'll each ha...   \n",
       "3  Before you focus all of your time and money to...   \n",
       "4  Introducing “Murder Hornets” in May of 2020 is...   \n",
       "\n",
       "                                            Buzzfeed  ...  \\\n",
       "0  Sophie Turner And Joe Jonas Did Their Best Kyl...  ...   \n",
       "1  I Shed A Lot And I Swear By This Broom To Get ...  ...   \n",
       "2  26 Teen Characters That You Forgot Were Actual...  ...   \n",
       "3  32 Tweets From This Month So Far That Sent Me ...  ...   \n",
       "4  Viola Davis Opened Up About Working With Chadw...  ...   \n",
       "\n",
       "                                                 AOC  \\\n",
       "0  Thank you everyone for the birthday wishes!\\n\\...   \n",
       "1  When politicians use faith as an excuse to pas...   \n",
       "2        Maybe we should be. https://t.co/AC5491EW56   \n",
       "3  Genuine question for the media / law enforceme...   \n",
       "4  I still can’t get over how bad the climate cha...   \n",
       "\n",
       "                                            TEDTalks  \\\n",
       "0  How algorithms (for fish!) and big data (about...   \n",
       "1  \"Even if climate change stopped right now, the...   \n",
       "2  Here's what people *actually* need to lift the...   \n",
       "3  In this truly one-of-a-kind Talk, mega-produce...   \n",
       "4  Deciding by majority vote seems like the best ...   \n",
       "\n",
       "                                          JenSincero  \\\n",
       "0  Kevin Hart listens to You Are a Badass while o...   \n",
       "1  When we push against who we naturally are, we ...   \n",
       "2  Take the risks and stay the course until you r...   \n",
       "3  Share your Badassery with the world why doncha...   \n",
       "4  You have got to get a handle on your thoughts ...   \n",
       "\n",
       "                                            TheOnion  \\\n",
       "0  Russian Scientists Grip Heads In Agony As Tele...   \n",
       "1  Blue Lives Matter Supporters Say Kyle Rittenho...   \n",
       "2  Today Now!: How To Pretend You Give A Shit Abo...   \n",
       "3  Fox News Limits Pandemic Coverage To Avoid Giv...   \n",
       "4  WWII Bomb Explodes During Disposal Operation h...   \n",
       "\n",
       "                                         mindykaling  \\\n",
       "0  At least he has a great sense of humor. \\nVia ...   \n",
       "1  I was so lucky to work with Peter. His passion...   \n",
       "2  And if that happens to be 3pm, so be it. @Bare...   \n",
       "3  Am I the only one who makes this face while pu...   \n",
       "4  What’s the gif that best personifies you? Here...   \n",
       "\n",
       "                                          AdamMGrant  \\\n",
       "0  A modern drag on happiness: time confetti.\\n\\n...   \n",
       "1  The best conversation partners are unafraid of...   \n",
       "2  The root of insecurity is craving the approval...   \n",
       "3  Hey managers: the solution to your diversity p...   \n",
       "4  There's no moral code requiring you to finish ...   \n",
       "\n",
       "                                            mashable  \\\n",
       "0  Resources for adults who think climate science...   \n",
       "1  The world's largest 3D-printed boat was built ...   \n",
       "2  This new 3D printing technique is totally mesm...   \n",
       "3  These Adidas sneakers could be a huge step for...   \n",
       "4  The Google Grim Reaper has claimed another app...   \n",
       "\n",
       "                                      Charlie_Burris  \\\n",
       "0  Pruitt continuing to start JG feels like he’s ...   \n",
       "1                Lol come on https://t.co/ss3LDnhENr   \n",
       "2  It just never ends, that’s probably the toughe...   \n",
       "3  What an absolutely unacceptable, atrocious, un...   \n",
       "4  These announcers are talking like there’s gonn...   \n",
       "\n",
       "                                          NatureNews  \\\n",
       "0  Vaccines often work poorly in older people, me...   \n",
       "1  Collaborating in science is nothing new. But t...   \n",
       "2  \"It seems that the only way to be successful i...   \n",
       "3  “The loss in research and human resources is i...   \n",
       "4  Scientists have mapped the location and size o...   \n",
       "\n",
       "                                      ScienceChannel  \n",
       "0  This year, the Nobel Prize award in physics we...  \n",
       "1  When a Cordyceps fungus attacks a host, the my...  \n",
       "2  This ancient Viking mortuary house was built t...  \n",
       "3  The \"Wow\" signal from 1977 rocked the scientif...  \n",
       "4  When frogs mate, the male climbs on the back o...  \n",
       "\n",
       "[5 rows x 22 columns]"
      ]
     },
     "execution_count": 26,
     "metadata": {},
     "output_type": "execute_result"
    }
   ],
   "source": [
    "print(large.shape)\n",
    "large.head()"
   ]
  },
  {
   "cell_type": "code",
   "execution_count": 27,
   "metadata": {},
   "outputs": [
    {
     "name": "stdout",
     "output_type": "stream",
     "text": [
      "OfficialKat\n",
      "ConanOBrien\n",
      "funnyordie\n",
      "darth\n",
      "netw3rk\n",
      "davidchang\n",
      "mental_floss\n",
      "MorningBrew\n"
     ]
    }
   ],
   "source": [
    "# Get 10 Tweets from Each User\n",
    "# Return a Dictionary\n",
    "example_tweets_small = {}\n",
    "for twitter_handel in example_users_small:\n",
    "    user_api_conn = TWITTER.get_user(twitter_handel)\n",
    "    user_tweets = []\n",
    "    for tweet in range(10):\n",
    "        user_tweets.append(user_api_conn.timeline(\n",
    "            count=200, exclude_replies=True, include_rts=False,\n",
    "            tweet_mode='extended', since_id=None)[tweet].full_text)\n",
    "    print(twitter_handel)\n",
    "    example_tweets_small.update({twitter_handel: user_tweets})"
   ]
  },
  {
   "cell_type": "code",
   "execution_count": 28,
   "metadata": {},
   "outputs": [],
   "source": [
    "small = pd.DataFrame(example_tweets_small)"
   ]
  },
  {
   "cell_type": "code",
   "execution_count": 29,
   "metadata": {},
   "outputs": [
    {
     "name": "stdout",
     "output_type": "stream",
     "text": [
      "(10, 8)\n"
     ]
    },
    {
     "data": {
      "text/html": [
       "<div>\n",
       "<style scoped>\n",
       "    .dataframe tbody tr th:only-of-type {\n",
       "        vertical-align: middle;\n",
       "    }\n",
       "\n",
       "    .dataframe tbody tr th {\n",
       "        vertical-align: top;\n",
       "    }\n",
       "\n",
       "    .dataframe thead th {\n",
       "        text-align: right;\n",
       "    }\n",
       "</style>\n",
       "<table border=\"1\" class=\"dataframe\">\n",
       "  <thead>\n",
       "    <tr style=\"text-align: right;\">\n",
       "      <th></th>\n",
       "      <th>OfficialKat</th>\n",
       "      <th>ConanOBrien</th>\n",
       "      <th>funnyordie</th>\n",
       "      <th>darth</th>\n",
       "      <th>netw3rk</th>\n",
       "      <th>davidchang</th>\n",
       "      <th>mental_floss</th>\n",
       "      <th>MorningBrew</th>\n",
       "    </tr>\n",
       "  </thead>\n",
       "  <tbody>\n",
       "    <tr>\n",
       "      <th>0</th>\n",
       "      <td>I hope everyone is watching #TheWayISeeIt</td>\n",
       "      <td>My father has always cast a long shadow in my ...</td>\n",
       "      <td>Good morning! Ever see someone wish you were t...</td>\n",
       "      <td>https://t.co/5yHX2C45qm</td>\n",
       "      <td>TV AD: VOTE YES on 69 to keep millions of fami...</td>\n",
       "      <td>Isaac you still get a B-minus https://t.co/SPp...</td>\n",
       "      <td>The reason for the orange coffee pot is just o...</td>\n",
       "      <td>Have a great weekend everyone &amp;lt;3</td>\n",
       "    </tr>\n",
       "    <tr>\n",
       "      <th>1</th>\n",
       "      <td>This made me barfy https://t.co/weQ47MGXJ2</td>\n",
       "      <td>I can’t remember the last time I was this shoc...</td>\n",
       "      <td>Wait, there's more to TikTok than hot people d...</td>\n",
       "      <td>that this is even an issue is totally fucked u...</td>\n",
       "      <td>just recorded this with a really fun custom re...</td>\n",
       "      <td>Thou shall not talk shit about sliders or flat...</td>\n",
       "      <td>Is this the world's only tree donation inspire...</td>\n",
       "      <td>Which company has the best chance to pass Appl...</td>\n",
       "    </tr>\n",
       "    <tr>\n",
       "      <th>2</th>\n",
       "      <td>What if 2020 was just some intern fucking arou...</td>\n",
       "      <td>If you like my conversation with @HillaryClint...</td>\n",
       "      <td>Today, we celebrate @TheRitaMoreno and her inc...</td>\n",
       "      <td>californians we can not do anything to force t...</td>\n",
       "      <td>As an official request the sports caller is co...</td>\n",
       "      <td>Hey @IsaacKLee I want to be a guest on this po...</td>\n",
       "      <td>If you see a giant toilet bowl or SpongeBob on...</td>\n",
       "      <td>Most companies: Let’s conduct a market analysi...</td>\n",
       "    </tr>\n",
       "    <tr>\n",
       "      <th>3</th>\n",
       "      <td>Copy and paste but change what the bunny is ho...</td>\n",
       "      <td>Damn —  @WillieNelson came on the podcast and ...</td>\n",
       "      <td>New Quarantine Emojis by @ben_rosen https://t....</td>\n",
       "      <td>let me tell u about self-serving individuals s...</td>\n",
       "      <td>LOL SECOND SEASON?!?!?! https://t.co/jRotcVyyCi</td>\n",
       "      <td>He doesn’t think hard enough https://t.co/jkdV...</td>\n",
       "      <td>Halloween is ~cool~. https://t.co/Odh3kc2iNW</td>\n",
       "      <td>Read it all\\n\\nthen tell us what yours is http...</td>\n",
       "    </tr>\n",
       "    <tr>\n",
       "      <th>4</th>\n",
       "      <td>Ok well now I am sobbing?! https://t.co/rHoiM0...</td>\n",
       "      <td>I love the fall: The crisp air, the colorful t...</td>\n",
       "      <td>.@itsjuliebowen and @lancereddick rock out in ...</td>\n",
       "      <td>i will wait for the all important trump twitte...</td>\n",
       "      <td>https://t.co/7oWqrPZxUL</td>\n",
       "      <td>This is how I also prepare for meetings. This ...</td>\n",
       "      <td>You'll be saying Walter White's name—and proba...</td>\n",
       "      <td>Holy retail sales: 1.9% vs. 0.7% expected \\n\\n...</td>\n",
       "    </tr>\n",
       "  </tbody>\n",
       "</table>\n",
       "</div>"
      ],
      "text/plain": [
       "                                         OfficialKat  \\\n",
       "0          I hope everyone is watching #TheWayISeeIt   \n",
       "1         This made me barfy https://t.co/weQ47MGXJ2   \n",
       "2  What if 2020 was just some intern fucking arou...   \n",
       "3  Copy and paste but change what the bunny is ho...   \n",
       "4  Ok well now I am sobbing?! https://t.co/rHoiM0...   \n",
       "\n",
       "                                         ConanOBrien  \\\n",
       "0  My father has always cast a long shadow in my ...   \n",
       "1  I can’t remember the last time I was this shoc...   \n",
       "2  If you like my conversation with @HillaryClint...   \n",
       "3  Damn —  @WillieNelson came on the podcast and ...   \n",
       "4  I love the fall: The crisp air, the colorful t...   \n",
       "\n",
       "                                          funnyordie  \\\n",
       "0  Good morning! Ever see someone wish you were t...   \n",
       "1  Wait, there's more to TikTok than hot people d...   \n",
       "2  Today, we celebrate @TheRitaMoreno and her inc...   \n",
       "3  New Quarantine Emojis by @ben_rosen https://t....   \n",
       "4  .@itsjuliebowen and @lancereddick rock out in ...   \n",
       "\n",
       "                                               darth  \\\n",
       "0                            https://t.co/5yHX2C45qm   \n",
       "1  that this is even an issue is totally fucked u...   \n",
       "2  californians we can not do anything to force t...   \n",
       "3  let me tell u about self-serving individuals s...   \n",
       "4  i will wait for the all important trump twitte...   \n",
       "\n",
       "                                             netw3rk  \\\n",
       "0  TV AD: VOTE YES on 69 to keep millions of fami...   \n",
       "1  just recorded this with a really fun custom re...   \n",
       "2  As an official request the sports caller is co...   \n",
       "3    LOL SECOND SEASON?!?!?! https://t.co/jRotcVyyCi   \n",
       "4                            https://t.co/7oWqrPZxUL   \n",
       "\n",
       "                                          davidchang  \\\n",
       "0  Isaac you still get a B-minus https://t.co/SPp...   \n",
       "1  Thou shall not talk shit about sliders or flat...   \n",
       "2  Hey @IsaacKLee I want to be a guest on this po...   \n",
       "3  He doesn’t think hard enough https://t.co/jkdV...   \n",
       "4  This is how I also prepare for meetings. This ...   \n",
       "\n",
       "                                        mental_floss  \\\n",
       "0  The reason for the orange coffee pot is just o...   \n",
       "1  Is this the world's only tree donation inspire...   \n",
       "2  If you see a giant toilet bowl or SpongeBob on...   \n",
       "3       Halloween is ~cool~. https://t.co/Odh3kc2iNW   \n",
       "4  You'll be saying Walter White's name—and proba...   \n",
       "\n",
       "                                         MorningBrew  \n",
       "0                Have a great weekend everyone &lt;3  \n",
       "1  Which company has the best chance to pass Appl...  \n",
       "2  Most companies: Let’s conduct a market analysi...  \n",
       "3  Read it all\\n\\nthen tell us what yours is http...  \n",
       "4  Holy retail sales: 1.9% vs. 0.7% expected \\n\\n...  "
      ]
     },
     "execution_count": 29,
     "metadata": {},
     "output_type": "execute_result"
    }
   ],
   "source": [
    "print(small.shape)\n",
    "small.head()"
   ]
  },
  {
   "cell_type": "code",
   "execution_count": null,
   "metadata": {},
   "outputs": [],
   "source": []
  },
  {
   "cell_type": "code",
   "execution_count": 30,
   "metadata": {},
   "outputs": [],
   "source": [
    "large.to_csv('large.csv')"
   ]
  },
  {
   "cell_type": "code",
   "execution_count": 31,
   "metadata": {},
   "outputs": [],
   "source": [
    "small.to_csv('small.csv')"
   ]
  },
  {
   "cell_type": "code",
   "execution_count": null,
   "metadata": {},
   "outputs": [],
   "source": []
  },
  {
   "cell_type": "code",
   "execution_count": null,
   "metadata": {},
   "outputs": [],
   "source": []
  },
  {
   "cell_type": "code",
   "execution_count": null,
   "metadata": {},
   "outputs": [],
   "source": []
  },
  {
   "cell_type": "code",
   "execution_count": null,
   "metadata": {},
   "outputs": [],
   "source": []
  }
 ],
 "metadata": {
  "kernelspec": {
   "display_name": "twit_compare",
   "language": "python",
   "name": "twit_compare"
  },
  "language_info": {
   "codemirror_mode": {
    "name": "ipython",
    "version": 3
   },
   "file_extension": ".py",
   "mimetype": "text/x-python",
   "name": "python",
   "nbconvert_exporter": "python",
   "pygments_lexer": "ipython3",
   "version": "3.8.1"
  }
 },
 "nbformat": 4,
 "nbformat_minor": 4
}
